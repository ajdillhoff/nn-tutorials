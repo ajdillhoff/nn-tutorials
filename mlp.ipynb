{
 "cells": [
  {
   "cell_type": "markdown",
   "metadata": {},
   "source": [
    "# Multi-Layer Perceptrons\n",
    "\n",
    "To solve more complicated problems, we need to add additional layers. There are several immediate questions to consider:\n",
    " - How many perceptrons do I need?\n",
    " - How many layers is sufficient?\n",
    " - Should the hidden layers be larger or smaller than the input layer?\n",
    " \n",
    "This notebook will shed light on some of these questions through examples."
   ]
  },
  {
   "cell_type": "markdown",
   "metadata": {},
   "source": [
    "## XOR Problem\n",
    "\n",
    "Let's start out by creating the data representing the XOR problem."
   ]
  },
  {
   "cell_type": "code",
   "execution_count": 1,
   "metadata": {},
   "outputs": [],
   "source": [
    "import numpy as np\n",
    "import matplotlib.pyplot as plt\n",
    "\n",
    "%matplotlib notebook\n",
    "\n",
    "def calc_decision_boundary(weights, bias):\n",
    "    x = -bias / weights[0]\n",
    "    y = -bias / weights[1]\n",
    "    m = -y / x\n",
    "    b = -bias / weights[1]\n",
    "    return np.array([m, b])\n",
    "\n",
    "def gen_boundary_points(weights, m, b):\n",
    "    # If the slope is undefined, it is vertical.\n",
    "    if weights[1] != 0:\n",
    "        x = np.linspace(-5, 5, 100)\n",
    "        y = m * x + b\n",
    "    else:\n",
    "        x = np.zeros(100)\n",
    "        y = np.linspace(-5, 5, 100) + b\n",
    "        \n",
    "    return x, y\n",
    "\n",
    "def sigmoid(x):\n",
    "    return 1.0 / (1.0 + np.exp(-x))"
   ]
  },
  {
   "cell_type": "code",
   "execution_count": 2,
   "metadata": {},
   "outputs": [
    {
     "data": {
      "text/plain": [
       "<matplotlib.collections.PathCollection at 0x115da3f90>"
      ]
     },
     "execution_count": 2,
     "metadata": {},
     "output_type": "execute_result"
    },
    {
     "data": {
      "image/png": "[encoded data removed]",
      "text/plain": [
       "<Figure size 432x288 with 1 Axes>"
      ]
     },
     "metadata": {
      "needs_background": "light"
     },
     "output_type": "display_data"
    }
   ],
   "source": [
    "data = np.array([[0, 0],\n",
    "                 [0, 1],\n",
    "                 [1, 0],\n",
    "                 [1, 1]])\n",
    "targets = np.array([0, 1, 1, 0])\n",
    "\n",
    "fig = plt.figure()\n",
    "ax = fig.add_subplot(111)\n",
    "ax.scatter(data[:, 0], data[:, 1], c=targets)"
   ]
  },
  {
   "cell_type": "markdown",
   "metadata": {},
   "source": [
    "What was the result of using a single perceptron to solve this problem?\n",
    "\n",
    "The most optimal outcome is 75\\% accuracy."
   ]
  },
  {
   "cell_type": "code",
   "execution_count": 3,
   "metadata": {},
   "outputs": [
    {
     "data": {
      "text/plain": [
       "(-0.2, 1.2)"
      ]
     },
     "execution_count": 3,
     "metadata": {},
     "output_type": "execute_result"
    },
    {
     "data": {
      "image/png": "[encoded data removed]",
      "text/plain": [
       "<Figure size 432x288 with 1 Axes>"
      ]
     },
     "metadata": {
      "needs_background": "light"
     },
     "output_type": "display_data"
    }
   ],
   "source": [
    "# Classifier Parameters\n",
    "weights = np.array([1, 1]) \n",
    "bias = -0.5\n",
    "\n",
    "# For visualizing the line\n",
    "m, b = calc_decision_boundary(weights, bias)\n",
    "\n",
    "x, y = gen_boundary_points(weights, m, b)\n",
    "    \n",
    "fig = plt.figure()\n",
    "ax = fig.add_subplot(111)\n",
    "ax.plot(x, y, c='g')\n",
    "ax.scatter(data[:, 0], data[:, 1], c=targets)\n",
    "ax.set_xlim([-0.2, 1.2])\n",
    "ax.set_ylim([-0.2, 1.2])"
   ]
  },
  {
   "cell_type": "markdown",
   "metadata": {},
   "source": [
    "## Adding another perceptron\n",
    "\n",
    "We begin by adding a hidden layer with a single perceptron having a sigmoidal, nonlinear activation function.\n",
    "\n",
    "If the hidden layer has only a single unit that produces a scalar output, then the initialization of our output perceptron changes. The weight matrix defining the output perceptron must have a weight for each incoming input. Since the hidden layer output is of size 1, the output perceptron only has a single weight."
   ]
  },
  {
   "cell_type": "code",
   "execution_count": 4,
   "metadata": {},
   "outputs": [
    {
     "data": {
      "text/plain": [
       "(-0.2, 1.2)"
      ]
     },
     "execution_count": 4,
     "metadata": {},
     "output_type": "execute_result"
    },
    {
     "data": {
      "image/png": "[encoded data removed]",
      "text/plain": [
       "<Figure size 432x288 with 1 Axes>"
      ]
     },
     "metadata": {
      "needs_background": "light"
     },
     "output_type": "display_data"
    }
   ],
   "source": [
    "hidden_weights = np.array([1, 1])\n",
    "hidden_bias = -0.5\n",
    "out_weights = np.array([1])\n",
    "out_bias = 0\n",
    "\n",
    "# For visualizing the line\n",
    "hidden_m, hidden_b = calc_decision_boundary(hidden_weights, hidden_bias)\n",
    "\n",
    "hidden_x, hidden_y = gen_boundary_points(hidden_weights, hidden_m, hidden_b)\n",
    "    \n",
    "fig = plt.figure()\n",
    "ax = fig.add_subplot(111)\n",
    "ax.plot(hidden_x, hidden_y, c='g')\n",
    "ax.scatter(data[:, 0], data[:, 1], c=targets)\n",
    "ax.set_xlim([-0.2, 1.2])\n",
    "ax.set_ylim([-0.2, 1.2])"
   ]
  },
  {
   "cell_type": "markdown",
   "metadata": {},
   "source": [
    "A single perceptron in the hidden layer means that we still only have a single decision boundary. Let's add one more and see how things change."
   ]
  },
  {
   "cell_type": "code",
   "execution_count": 5,
   "metadata": {},
   "outputs": [],
   "source": [
    "def bce(x,  y):\n",
    "    return y * np.log(x) + (1 - y) * np.log(1 - x)"
   ]
  },
  {
   "cell_type": "code",
   "execution_count": 19,
   "metadata": {},
   "outputs": [
    {
     "name": "stdout",
     "output_type": "stream",
     "text": [
      "[[-0.5  0.5  0.5  1.5]\n",
      " [-1.5 -0.5 -0.5  0.5]]\n",
      "[[0.37754067 0.62245933 0.62245933 0.81757448]\n",
      " [0.18242552 0.37754067 0.37754067 0.62245933]]\n",
      "[-0.00488486  0.04491866  0.04491866 -0.00488486]\n",
      "[0.49877879 0.51122778 0.51122778 0.49877879]\n"
     ]
    },
    {
     "data": {
      "text/plain": [
       "(-0.2, 1.2)"
      ]
     },
     "execution_count": 19,
     "metadata": {},
     "output_type": "execute_result"
    },
    {
     "data": {
      "image/png": "[encoded data removed]",
      "text/plain": [
       "<Figure size 432x288 with 1 Axes>"
      ]
     },
     "metadata": {
      "needs_background": "light"
     },
     "output_type": "display_data"
    },
    {
     "data": {
      "image/png": "[encoded data removed]",
      "text/plain": [
       "<Figure size 432x288 with 1 Axes>"
      ]
     },
     "metadata": {
      "needs_background": "light"
     },
     "output_type": "display_data"
    }
   ],
   "source": [
    "# hidden_weights = np.random.uniform(-1, 1, size=(2, 2))\n",
    "# hidden_bias = np.random.uniform(-1, 1, size=(2,))\n",
    "# out_weights = np.random.uniform(-1, 1, size=(2,))\n",
    "# out_bias = np.random.uniform(-1, 1, size=(1,))\n",
    "hidden_weights = np.array([[1, 1], [1, 1]])\n",
    "hidden_bias = np.array([-0.5, -1.5])\n",
    "out_weights = np.array([1.0, -1.0])\n",
    "out_bias = -0.2\n",
    "\n",
    "# For visualizing the line\n",
    "hidden_m0, hidden_b0 = calc_decision_boundary(hidden_weights[0], hidden_bias[0])\n",
    "hidden_x0, hidden_y0 = gen_boundary_points(hidden_weights[0], hidden_m0, hidden_b0)\n",
    "hidden_m1, hidden_b1 = calc_decision_boundary(hidden_weights[1], hidden_bias[1])\n",
    "hidden_x1, hidden_y1 = gen_boundary_points(hidden_weights[1], hidden_m1, hidden_b1)\n",
    "out_m, out_b = calc_decision_boundary(out_weights, out_bias)\n",
    "out_x, out_y = gen_boundary_points(out_weights, out_m, out_b)\n",
    "\n",
    "# Forward propagation\n",
    "hidden_bias_exp = np.repeat(np.expand_dims(hidden_bias, axis=-1), 4, axis=1)\n",
    "hidden_out = hidden_weights @ data.T + hidden_bias_exp\n",
    "hidden_act = sigmoid(hidden_out)\n",
    "print(hidden_out)\n",
    "print(hidden_act)\n",
    "\n",
    "fig = plt.figure()\n",
    "ax = fig.add_subplot(111)\n",
    "ax.plot(out_x, out_y, c='g')\n",
    "ax.scatter(hidden_act[0, :], hidden_act[1, :], c=targets)\n",
    "ax.set_xlim([-0.2, 1.2])\n",
    "ax.set_ylim([-0.2, 1.2])\n",
    "\n",
    "out = out_weights @ hidden_act + out_bias\n",
    "print(out)\n",
    "out_act = sigmoid(out)\n",
    "print(out_act)    \n",
    "    \n",
    "fig = plt.figure()\n",
    "ax = fig.add_subplot(111)\n",
    "ax.plot(hidden_x0, hidden_y0, c='g')\n",
    "ax.plot(hidden_x1, hidden_y1, c='g')\n",
    "ax.scatter(data[:, 0], data[:, 1], c=targets)\n",
    "ax.set_xlim([-0.2, 1.2])\n",
    "ax.set_ylim([-0.2, 1.2])"
   ]
  }
 ],
 "metadata": {
  "kernelspec": {
   "display_name": "Python 3",
   "language": "python",
   "name": "python3"
  },
  "language_info": {
   "codemirror_mode": {
    "name": "ipython",
    "version": 3
   },
   "file_extension": ".py",
   "mimetype": "text/x-python",
   "name": "python",
   "nbconvert_exporter": "python",
   "pygments_lexer": "ipython3",
   "version": "3.7.5"
  }
 },
 "nbformat": 4,
 "nbformat_minor": 2
}
