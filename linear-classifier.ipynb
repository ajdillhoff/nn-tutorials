{
 "cells": [
  {
   "cell_type": "code",
   "execution_count": 1,
   "metadata": {},
   "outputs": [],
   "source": [
    "import numpy as np\n",
    "import matplotlib.pyplot as plt\n",
    "\n",
    "%matplotlib notebook"
   ]
  },
  {
   "cell_type": "markdown",
   "metadata": {},
   "source": [
    "# Linear Classifiers\n",
    "\n",
    "In this example, we will construct a simple binary classifier. Let's first look at our dataset."
   ]
  },
  {
   "cell_type": "code",
   "execution_count": 2,
   "metadata": {},
   "outputs": [
    {
     "data": {
      "text/plain": [
       "<matplotlib.collections.PathCollection at 0x114bb9b50>"
      ]
     },
     "execution_count": 2,
     "metadata": {},
     "output_type": "execute_result"
    },
    {
     "data": {
      "image/png": "[encoded data removed]",
      "text/plain": [
       "<Figure size 432x288 with 1 Axes>"
      ]
     },
     "metadata": {
      "needs_background": "light"
     },
     "output_type": "display_data"
    }
   ],
   "source": [
    "a_samples = np.random.multivariate_normal([-1, 1], [[0.1, 0], [0, 0.1]], 100)\n",
    "b_samples = np.random.multivariate_normal([1, -1], [[0.1, 0], [0, 0.1]], 100)\n",
    "a_targets = np.zeros(100)  # Samples from class A are assigned a class value of 0.\n",
    "b_targets = np.ones(100)  # Samples from class B are assigned a class value of 1.\n",
    "\n",
    "fig = plt.figure()\n",
    "ax = fig.add_subplot(111)\n",
    "ax.scatter(a_samples[:, 0], a_samples[:, 1], c='b')\n",
    "ax.scatter(b_samples[:, 0], b_samples[:, 1], c='r')"
   ]
  },
  {
   "cell_type": "markdown",
   "metadata": {},
   "source": [
    "Visually, we can image a line that separates these two sets of data cleanly. Samples appearing on one side of the line are assigned to one class, and vice versa."
   ]
  },
  {
   "cell_type": "code",
   "execution_count": 3,
   "metadata": {},
   "outputs": [
    {
     "data": {
      "text/plain": [
       "(-2, 2)"
      ]
     },
     "execution_count": 3,
     "metadata": {},
     "output_type": "execute_result"
    },
    {
     "data": {
      "image/png": "[encoded data removed]",
      "text/plain": [
       "<Figure size 432x288 with 1 Axes>"
      ]
     },
     "metadata": {
      "needs_background": "light"
     },
     "output_type": "display_data"
    }
   ],
   "source": [
    "x = np.linspace(-5, 5, 100)\n",
    "y = x\n",
    "\n",
    "fig = plt.figure()\n",
    "ax = fig.add_subplot(111)\n",
    "ax.plot(x, y, c='g')\n",
    "ax.scatter(a_samples[:, 0], a_samples[:, 1], c='b')\n",
    "ax.scatter(b_samples[:, 0], b_samples[:, 1], c='r')\n",
    "ax.set_xlim([-2, 2])\n",
    "ax.set_ylim([-2, 2])"
   ]
  },
  {
   "cell_type": "markdown",
   "metadata": {},
   "source": [
    "What we are looking for is a function $y = f(\\mathbf{x})$ that maps the features in $\\mathbf{x}$ to a classification (either 0 or 1). The data we generated above is two-dimensional, so our function should consider both features of each sample.\n",
    "\n",
    "# Weights and Features\n",
    "The linear classifier we will use takes the form of $y = f(\\mathbf{x}; \\mathbf{w})$, where $\\mathbf{x} = (x_1, x_2)$ is the sample and its features and $\\mathbf{w} = (w_1, w_2)$ are the parameters of our classifier. Formally, a linear classifier computes a linear combination of the input and coefficients, $f(\\mathbf{x}; \\mathbf{w}) = \\mathbf{w} \\cdot \\mathbf{x} = \\sum_i w_i x_i.$\n",
    "\n",
    "**Our perceptron has 3 parameters**\n",
    "\n",
    "## Initialization\n",
    "What values should the parameters of our model start with? Typically, weights are randomly initialized using a variety of different techniques. For the purposes of this example, we will sample from a uniform distribution."
   ]
  },
  {
   "cell_type": "code",
   "execution_count": 4,
   "metadata": {},
   "outputs": [
    {
     "name": "stdout",
     "output_type": "stream",
     "text": [
      "Weights: [ 0.61373048 -0.27857633  0.30898444]\n"
     ]
    }
   ],
   "source": [
    "# Weight Initialization\n",
    "weights = np.random.uniform(-1, 1, size=(3,))\n",
    "print(\"Weights: {}\".format(weights))"
   ]
  },
  {
   "cell_type": "markdown",
   "metadata": {},
   "source": [
    "# Forward Pass\n",
    "Calculating the output of a neural network is what is known as a **forward pass**. For our single layer perceptron, this is simply $y = h(\\mathbf{w}\\cdot\\mathbf{x})$.\n",
    "\n",
    "Let's implement this in Python..."
   ]
  },
  {
   "cell_type": "code",
   "execution_count": 5,
   "metadata": {},
   "outputs": [
    {
     "name": "stdout",
     "output_type": "stream",
     "text": [
      "Before step function: 1.201291249175053\n",
      "Final prediction: 1.0\n"
     ]
    }
   ],
   "source": [
    "def step(x):\n",
    "    out = x.copy()\n",
    "    out[x < 0] = 0\n",
    "    out[x >= 0] = 1\n",
    "    return out\n",
    "\n",
    "def dot(w, x):\n",
    "    x_bias = np.concatenate((np.ones((x.shape[0], 1)), x), axis=1)\n",
    "    return w @ x_bias.T\n",
    "\n",
    "# Forward pass -- use input from the blue distribution centered at (-1, 1)\n",
    "x = np.array([[-1.0, 1.0]])\n",
    "y = dot(weights, x)\n",
    "print(\"Before step function: {}\".format(y[0]))\n",
    "\n",
    "# Step function\n",
    "out = step(y)\n",
    "print(\"Final prediction: {}\".format(out[0]))"
   ]
  },
  {
   "cell_type": "markdown",
   "metadata": {},
   "source": [
    "# Decision Boundary\n",
    "\n",
    "Written out fully, the linear combination of the perceptron is:\n",
    "$y = h(w_0 + w_1 x_1 + w_2 x_2)$\n",
    "\n",
    "Notice that we have two variables in the input as well as two corresponding parameters of our classifier. We can arrange this in the form a line $Ax + By = C$. \n",
    "\n",
    "For our samples $\\mathbf{x}$ and $\\mathbf{w}$, the equation is $w_1 x_1 + w_2 x_2 - w_0 = 0$. The previous coefficient $C$ has been renamed $w_0$ and will serve as our bias. We will see why this is important in a moment."
   ]
  },
  {
   "cell_type": "code",
   "execution_count": 6,
   "metadata": {},
   "outputs": [],
   "source": [
    "def calc_decision_boundary(weights):\n",
    "    x = -weights[0] / weights[1]\n",
    "    y = -weights[0] / weights[2]\n",
    "    m = -y / x\n",
    "    return np.array([m, y])"
   ]
  },
  {
   "cell_type": "code",
   "execution_count": 17,
   "metadata": {},
   "outputs": [
    {
     "name": "stdout",
     "output_type": "stream",
     "text": [
      "Slope: 1.0\n",
      "Y-Intercept: 0.33333333333333337\n"
     ]
    },
    {
     "data": {
      "text/plain": [
       "(-2, 2)"
      ]
     },
     "execution_count": 17,
     "metadata": {},
     "output_type": "execute_result"
    },
    {
     "data": {
      "image/png": "[encoded data removed]",
      "text/plain": [
       "<Figure size 432x288 with 1 Axes>"
      ]
     },
     "metadata": {
      "needs_background": "light"
     },
     "output_type": "display_data"
    }
   ],
   "source": [
    "# Classifier Parameters\n",
    "# print(weights)\n",
    "weights = np.array([0.1, 0.3, -0.3]) \n",
    "\n",
    "# For visualizing the line\n",
    "m, b = calc_decision_boundary(weights)\n",
    "print(\"Slope: {}\\nY-Intercept: {}\".format(m, b))\n",
    "\n",
    "# If the slope is undefined, it is vertical.\n",
    "if weights[2] != 0:\n",
    "    x = np.linspace(-3, 3, 100)\n",
    "    y = m * x + b\n",
    "else:\n",
    "    x = np.zeros(100)\n",
    "    y = np.linspace(-3, 3, 100) + b\n",
    "    \n",
    "fig = plt.figure()\n",
    "ax = fig.add_subplot(111)\n",
    "ax.plot(x, y, c='g')\n",
    "ax.scatter(a_samples[:, 0], a_samples[:, 1], c='b')\n",
    "ax.scatter(b_samples[:, 0], b_samples[:, 1], c='r')\n",
    "ax.set_xlim([-2, 2])\n",
    "ax.set_ylim([-2, 2])"
   ]
  },
  {
   "cell_type": "markdown",
   "metadata": {},
   "source": [
    "Visually we can see that our linear classifier is well suited for this dataset. **How do we show this quantitatively?**\n",
    "\n",
    "For a binary classifier, if $$\\mathbf{w}\\cdot\\mathbf{x} \\geq 0$$ then we assign the sample $x$ to class 1. Otherwise, we will assign it to class 0. Classifiers are typically measured by their error rate. This is calculated by comparing the predictions versus the ground truth targets. Error measures are typically called loss functions. For this example, we will use L1 loss: $L_1 = \\sum_{i} |\\hat{y}_i - y_i|$, where $\\hat{y}_i$ is the ground truth target associated with sample $i$."
   ]
  },
  {
   "cell_type": "code",
   "execution_count": 10,
   "metadata": {},
   "outputs": [],
   "source": [
    "def l1_loss(pred, target):\n",
    "    return np.abs(target - pred)"
   ]
  },
  {
   "cell_type": "code",
   "execution_count": 18,
   "metadata": {},
   "outputs": [
    {
     "name": "stdout",
     "output_type": "stream",
     "text": [
      "Loss A = 0.0\n",
      "Loss B = 0.0\n",
      "Normalized loss = 0.0\n"
     ]
    }
   ],
   "source": [
    "# Linear combination of weights and input\n",
    "y_a = dot(weights, a_samples)\n",
    "y_b = dot(weights, b_samples)\n",
    "\n",
    "# Step-wise activation function\n",
    "a_pred = step(y_a)\n",
    "b_pred = step(y_b)\n",
    "\n",
    "l1_a = l1_loss(a_pred, a_targets)\n",
    "l1_b = l1_loss(b_pred, b_targets)\n",
    "loss_a = l1_a.sum()\n",
    "loss_b = l1_b.sum()\n",
    "print(\"Loss A = {}\".format(loss_a))\n",
    "print(\"Loss B = {}\".format(loss_b))\n",
    "\n",
    "# Combine and normalize the error between 0 and 1.\n",
    "loss = np.concatenate((l1_a, l1_b)).mean()\n",
    "print(\"Normalized loss = {}\".format(loss))"
   ]
  },
  {
   "cell_type": "markdown",
   "metadata": {},
   "source": [
    "# Non-linear Functions\n",
    "\n",
    "Instead of the step-wise function, let's evaluate the output by using a sigmoid function."
   ]
  },
  {
   "cell_type": "code",
   "execution_count": 19,
   "metadata": {},
   "outputs": [],
   "source": [
    "def sigmoid(x):\n",
    "    return 1.0 / (1.0 + np.exp(-x))"
   ]
  },
  {
   "cell_type": "code",
   "execution_count": 23,
   "metadata": {},
   "outputs": [
    {
     "name": "stdout",
     "output_type": "stream",
     "text": [
      "[-0.50524345 -0.34725634 -0.53693004 -0.41104303 -0.49228337 -0.75647151\n",
      " -0.51093829 -0.47969846 -0.54922097 -0.61609649 -0.47420107 -0.46704472\n",
      " -0.72159232 -0.49381827 -0.2633768  -0.25434274 -0.37914271 -0.65455294\n",
      " -0.63978042 -0.83598477 -0.58862824 -0.46113878 -0.32218988 -0.27474166\n",
      " -0.66695255 -0.34201727 -0.61449182 -0.5318819  -0.48179961 -0.57993157\n",
      " -0.22144011 -0.36844513 -0.50370687 -0.42156982 -0.68406151 -0.42286817\n",
      " -0.41728838 -0.6683859  -0.63343595 -0.23105048 -0.4318551  -0.33899868\n",
      " -0.7667148  -0.22104033 -0.38767478 -0.4092228  -0.50396002 -0.55142025\n",
      " -0.57333166 -0.43731505 -0.52534194 -0.50169455 -0.42529961 -0.60128524\n",
      " -0.37800064 -0.64182024 -0.75123066 -0.40509889 -0.33011769 -0.76040733\n",
      " -0.51681137 -0.53244946 -0.77085835 -0.49789452 -0.5585525  -0.60540325\n",
      " -0.4704502  -0.38675095 -0.29984866 -0.42466506 -0.69858035 -0.50606162\n",
      " -0.20927372 -0.68777653 -0.47855189 -0.33262532 -0.64790045 -0.39220861\n",
      " -0.62699706 -0.43308337 -0.49096466 -0.56129433 -0.5763278  -0.32439018\n",
      " -0.54990112 -0.23909526 -0.40408079 -0.55758426 -0.46495604 -0.71164928\n",
      " -0.51791972 -0.27193864 -0.39630412 -0.24715419 -0.5298778  -0.60288348\n",
      " -0.40889791 -0.57684932 -0.55173016 -0.25162053]\n",
      "[0.37630923 0.41404791 0.36890202 0.39866205 0.37935581 0.31941283\n",
      " 0.37497359 0.38232333 0.36604517 0.35066976 0.38362239 0.38531596\n",
      " 0.32704244 0.3789945  0.4345338  0.43675489 0.40633368 0.34196428\n",
      " 0.34529618 0.30238111 0.35694966 0.38671571 0.42014215 0.4317434\n",
      " 0.33917955 0.41531954 0.35103524 0.37007807 0.38182726 0.35894834\n",
      " 0.44486509 0.40891679 0.37666994 0.39614117 0.33535542 0.39583063\n",
      " 0.3971658  0.33885836 0.34673185 0.44249298 0.39368344 0.41605273\n",
      " 0.31719019 0.44496382 0.40427717 0.39909849 0.3766105  0.36553496\n",
      " 0.36046842 0.39238092 0.37160396 0.37714252 0.3952493  0.35404971\n",
      " 0.40660921 0.34483519 0.32055321 0.4000879  0.41821199 0.31855784\n",
      " 0.37359814 0.36994577 0.31629346 0.37803559 0.36388245 0.35310849\n",
      " 0.38450969 0.40449969 0.42559448 0.39540098 0.33212706 0.37611723\n",
      " 0.44787168 0.33452788 0.38259413 0.41760198 0.34346282 0.40318574\n",
      " 0.34819176 0.39339029 0.37966634 0.36324803 0.359778   0.4196062\n",
      " 0.36588735 0.44050932 0.40033228 0.3641066  0.38581077 0.32923451\n",
      " 0.3733388  0.43243122 0.40220064 0.43852407 0.37054539 0.35368428\n",
      " 0.39917641 0.35965789 0.36546309 0.43742467]\n"
     ]
    }
   ],
   "source": [
    "# Linear combination of weights and input\n",
    "y_a = dot(weights, a_samples)\n",
    "y_b = dot(weights, b_samples)\n",
    "\n",
    "print(y_a)\n",
    "\n",
    "# Sigmoid function\n",
    "pred_a = sigmoid(y_a)\n",
    "pred_b = sigmoid(y_b)\n",
    "\n",
    "print(pred_a)\n",
    "\n",
    "# l2_a = 0.5 * ((a_targets - pred_a)**2)\n",
    "# l2_b = 0.5 * ((b_targets - pred_b)**2)\n",
    "# loss_a = l2_a.mean()\n",
    "# loss_b = l2_b.mean()\n",
    "# print(\"Loss A = {}\".format(loss_a))\n",
    "# print(\"Loss B = {}\".format(loss_b))\n",
    "\n",
    "# # Combine and normalize the error between 0 and 1.\n",
    "# loss = np.concatenate((l2_a, l2_b)).mean()\n",
    "# print(\"Normalized loss = {}\".format(loss))"
   ]
  },
  {
   "cell_type": "markdown",
   "metadata": {},
   "source": [
    "What happened to our loss? Our classifier that previously had 0 error is now higher. Recall that we must treat this as a probability. Our classifier now answers this question: **what is the probability that this sample belongs to class B (because B is associated with 1)?**\n",
    "\n",
    "Note that we could still apply a step-wise function on top of this. If the classifier outputs a value of 0.9 for a given sample, is that sufficient to classify it as class B? What about 0.8, 0.7, 0.6, ..."
   ]
  }
 ],
 "metadata": {
  "kernelspec": {
   "display_name": "Python 3",
   "language": "python",
   "name": "python3"
  },
  "language_info": {
   "codemirror_mode": {
    "name": "ipython",
    "version": 3
   },
   "file_extension": ".py",
   "mimetype": "text/x-python",
   "name": "python",
   "nbconvert_exporter": "python",
   "pygments_lexer": "ipython3",
   "version": "3.7.5"
  }
 },
 "nbformat": 4,
 "nbformat_minor": 4
}
